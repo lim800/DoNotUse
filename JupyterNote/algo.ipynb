{
 "cells": [
  {
   "cell_type": "code",
   "execution_count": 30,
   "metadata": {},
   "outputs": [
    {
     "name": "stdout",
     "output_type": "stream",
     "text": [
      "[2, 3]\n",
      "p: 1\n",
      "check: 2\n",
      "[3, 1]\n",
      "p: 2\n",
      "check: 2\n",
      "[1]\n",
      "p: 3\n",
      "check: 1\n",
      "[3]\n",
      "p: 1\n",
      "check: 1\n",
      "[]\n",
      "p: 3\n",
      "check: 3\n"
     ]
    },
    {
     "ename": "IndexError",
     "evalue": "list index out of range",
     "output_type": "error",
     "traceback": [
      "\u001b[0;31m---------------------------------------------------------------------------\u001b[0m",
      "\u001b[0;31mIndexError\u001b[0m                                Traceback (most recent call last)",
      "\u001b[0;32m<ipython-input-30-bbad31dcb594>\u001b[0m in \u001b[0;36m<module>\u001b[0;34m()\u001b[0m\n\u001b[1;32m     15\u001b[0m         \u001b[0;32mif\u001b[0m \u001b[0mk\u001b[0m\u001b[0;34m-\u001b[0m\u001b[0;36m1\u001b[0m \u001b[0;34m>=\u001b[0m \u001b[0mlen\u001b[0m\u001b[0;34m(\u001b[0m\u001b[0malist\u001b[0m\u001b[0;34m)\u001b[0m\u001b[0;34m:\u001b[0m\u001b[0;34m\u001b[0m\u001b[0m\n\u001b[1;32m     16\u001b[0m             \u001b[0mcount\u001b[0m \u001b[0;34m+=\u001b[0m \u001b[0;36m1\u001b[0m\u001b[0;34m\u001b[0m\u001b[0m\n\u001b[0;32m---> 17\u001b[0;31m             \u001b[0mcheck\u001b[0m \u001b[0;34m=\u001b[0m \u001b[0malist\u001b[0m\u001b[0;34m[\u001b[0m\u001b[0mk\u001b[0m\u001b[0;34m-\u001b[0m\u001b[0;36m1\u001b[0m\u001b[0;34m-\u001b[0m\u001b[0;34m(\u001b[0m\u001b[0mlen\u001b[0m\u001b[0;34m(\u001b[0m\u001b[0malist\u001b[0m\u001b[0;34m)\u001b[0m\u001b[0;34m*\u001b[0m\u001b[0mcount\u001b[0m\u001b[0;34m)\u001b[0m\u001b[0;34m]\u001b[0m\u001b[0;34m\u001b[0m\u001b[0m\n\u001b[0m\u001b[1;32m     18\u001b[0m         \u001b[0;32melif\u001b[0m \u001b[0;34m(\u001b[0m\u001b[0malist\u001b[0m \u001b[0;34m==\u001b[0m \u001b[0;34m[\u001b[0m\u001b[0;34m]\u001b[0m\u001b[0;34m)\u001b[0m\u001b[0;34m:\u001b[0m\u001b[0;34m\u001b[0m\u001b[0m\n\u001b[1;32m     19\u001b[0m             \u001b[0;32mpass\u001b[0m\u001b[0;34m\u001b[0m\u001b[0m\n",
      "\u001b[0;31mIndexError\u001b[0m: list index out of range"
     ]
    }
   ],
   "source": [
    "N,k = 3,2\n",
    "count = 0\n",
    "alist = list(range(1,N+1))\n",
    "check = alist[k-1]\n",
    "ans = []\n",
    "\n",
    "while(alist != []):\n",
    "    p = alist.pop(0)\n",
    "    print(alist)\n",
    "    print('p:',p)\n",
    "    print('check:' , check)\n",
    "    if p != check:\n",
    "        alist.append(p)\n",
    "    else:\n",
    "        if k-1 >= len(alist):\n",
    "            count += 1\n",
    "            check = alist[k-1-(len(alist)*count)]\n",
    "        elif (alist == []):\n",
    "            pass\n",
    "        else:\n",
    "            check = alist[k-1]\n",
    "        ans.append(p)\n",
    "\n",
    "print(ans)"
   ]
  },
  {
   "cell_type": "code",
   "execution_count": 55,
   "metadata": {},
   "outputs": [
    {
     "name": "stdout",
     "output_type": "stream",
     "text": [
      "<3, 6, 2, 7, 5, 1, 4>\n"
     ]
    }
   ],
   "source": [
    "# N, K = map(int, input().split(' '))\n",
    "N,k = 7,3\n",
    "count = 0\n",
    "alist = list(range(1,N+1))\n",
    "CCC = alist.copy()\n",
    "ans = []\n",
    "\n",
    "while(len(alist)!=0):\n",
    "    try:\n",
    "        check = CCC[k-1-(len(alist)*count)]\n",
    "    except:\n",
    "        count += 1\n",
    "        continue\n",
    "        \n",
    "    p = alist.pop(0)\n",
    "    if p != check:\n",
    "        alist.append(p)\n",
    "    else:\n",
    "        ans.append(p)\n",
    "        CCC = alist.copy()\n",
    "\n",
    "\n",
    "print('<', end='')\n",
    "for i in ans:\n",
    "    if i == ans[len(ans)-1]:\n",
    "        print(i, end='')\n",
    "    else:\n",
    "        print(i, end=', ')\n",
    "print('>')\n"
   ]
  },
  {
   "cell_type": "code",
   "execution_count": 69,
   "metadata": {},
   "outputs": [
    {
     "name": "stdout",
     "output_type": "stream",
     "text": [
      "7 3\n",
      "<3, 6, 2, 7, 5, 1, 4>\n"
     ]
    }
   ],
   "source": [
    "N, K = map(int, input().split(' '))\n",
    "# N,K = (7,3)\n",
    "count = 0\n",
    "alist = list(range(1,N+1))\n",
    "check = alist[K-1]\n",
    "ans = []\n",
    "\n",
    "while(len(alist)!=0):\n",
    "    p = alist.pop(0)\n",
    "    if p != check:\n",
    "        alist.append(p)\n",
    "    else:\n",
    "        while True:\n",
    "            try:\n",
    "                if alist ==[]:\n",
    "                    break\n",
    "                check = alist[K-1-(len(alist)*count)]\n",
    "            except:\n",
    "                count += 1\n",
    "            else:\n",
    "                break\n",
    "        ans.append(p)\n",
    "print('<', end='')\n",
    "for i in ans:\n",
    "    if i == ans[len(ans)-1]:\n",
    "        print(i, end='')\n",
    "    else:\n",
    "        print(i, end=', ')\n",
    "print('>')\n"
   ]
  },
  {
   "cell_type": "code",
   "execution_count": 102,
   "metadata": {},
   "outputs": [
    {
     "name": "stdout",
     "output_type": "stream",
     "text": [
      "2\n",
      "3\n",
      "7\n",
      "5\n",
      "4\n",
      "210\n",
      "84\n"
     ]
    }
   ],
   "source": [
    "ans = []\n",
    "T = int(input())\n",
    "for _ in range(T):\n",
    "    K = int(input())\n",
    "    N = int(input())\n",
    "    pocket = list(range(1,N+1))\n",
    "    ans.append(ppl())\n",
    "def ppl():\n",
    "    global K\n",
    "    K -=1\n",
    "    for i in range(1,N):\n",
    "        pocket[i] = pocket[i] + pocket[i-1]\n",
    "    if K == 0:\n",
    "        return pocket[N-1]\n",
    "    return ppl()\n",
    "for j in ans:\n",
    "    print(j)"
   ]
  },
  {
   "cell_type": "code",
   "execution_count": 103,
   "metadata": {},
   "outputs": [
    {
     "name": "stdout",
     "output_type": "stream",
     "text": [
      "2\n",
      "3\n",
      "7\n",
      "5\n",
      "4\n",
      "210\n",
      "84\n"
     ]
    }
   ],
   "source": [
    "ans = []\n",
    "T = int(input())\n",
    "for _ in range(T):\n",
    "    K = int(input())\n",
    "    N = int(input())\n",
    "    pocket = list(range(1,N+1))\n",
    "    while True:\n",
    "        K -=1\n",
    "        for i in range(1,N):\n",
    "            pocket[i] = pocket[i] + pocket[i-1]\n",
    "        if K == 0:\n",
    "            ans.append(pocket[N-1])\n",
    "            break\n",
    "for j in ans:\n",
    "    print(j)"
   ]
  },
  {
   "cell_type": "code",
   "execution_count": null,
   "metadata": {},
   "outputs": [],
   "source": []
  }
 ],
 "metadata": {
  "kernelspec": {
   "display_name": "Python 3",
   "language": "python",
   "name": "python3"
  },
  "language_info": {
   "codemirror_mode": {
    "name": "ipython",
    "version": 3
   },
   "file_extension": ".py",
   "mimetype": "text/x-python",
   "name": "python",
   "nbconvert_exporter": "python",
   "pygments_lexer": "ipython3",
   "version": "3.5.5"
  }
 },
 "nbformat": 4,
 "nbformat_minor": 2
}
