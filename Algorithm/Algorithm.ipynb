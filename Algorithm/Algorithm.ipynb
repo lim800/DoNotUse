{
 "cells": [
  {
   "cell_type": "code",
   "execution_count": 1,
   "metadata": {},
   "outputs": [
    {
     "ename": "IndexError",
     "evalue": "list index out of range",
     "output_type": "error",
     "traceback": [
      "\u001b[0;31m---------------------------------------------------------------------------\u001b[0m",
      "\u001b[0;31mIndexError\u001b[0m                                Traceback (most recent call last)",
      "\u001b[0;32m<ipython-input-1-f712430ed55c>\u001b[0m in \u001b[0;36m<module>\u001b[0;34m()\u001b[0m\n\u001b[1;32m     15\u001b[0m         \u001b[0;32mif\u001b[0m \u001b[0mk\u001b[0m\u001b[0;34m-\u001b[0m\u001b[0;36m1\u001b[0m \u001b[0;34m>=\u001b[0m \u001b[0mlen\u001b[0m\u001b[0;34m(\u001b[0m\u001b[0malist\u001b[0m\u001b[0;34m)\u001b[0m\u001b[0;34m:\u001b[0m\u001b[0;34m\u001b[0m\u001b[0m\n\u001b[1;32m     16\u001b[0m             \u001b[0mcount\u001b[0m \u001b[0;34m+=\u001b[0m \u001b[0;36m1\u001b[0m\u001b[0;34m\u001b[0m\u001b[0m\n\u001b[0;32m---> 17\u001b[0;31m             \u001b[0mcheck\u001b[0m \u001b[0;34m=\u001b[0m \u001b[0malist\u001b[0m\u001b[0;34m[\u001b[0m\u001b[0mk\u001b[0m\u001b[0;34m-\u001b[0m\u001b[0;36m1\u001b[0m\u001b[0;34m-\u001b[0m\u001b[0;34m(\u001b[0m\u001b[0mlen\u001b[0m\u001b[0;34m(\u001b[0m\u001b[0malist\u001b[0m\u001b[0;34m)\u001b[0m\u001b[0;34m*\u001b[0m\u001b[0mcount\u001b[0m\u001b[0;34m)\u001b[0m\u001b[0;34m]\u001b[0m\u001b[0;34m\u001b[0m\u001b[0m\n\u001b[0m\u001b[1;32m     18\u001b[0m         \u001b[0;32melif\u001b[0m \u001b[0;34m(\u001b[0m\u001b[0malist\u001b[0m \u001b[0;34m==\u001b[0m \u001b[0;34m[\u001b[0m\u001b[0;34m]\u001b[0m\u001b[0;34m)\u001b[0m\u001b[0;34m:\u001b[0m\u001b[0;34m\u001b[0m\u001b[0m\n\u001b[1;32m     19\u001b[0m             \u001b[0;32mpass\u001b[0m\u001b[0;34m\u001b[0m\u001b[0m\n",
      "\u001b[0;31mIndexError\u001b[0m: list index out of range"
     ]
    }
   ],
   "source": [
    "N,k = 3,2\n",
    "count = 0\n",
    "alist = list(range(1,N+1))\n",
    "check = alist[k-1]\n",
    "ans = []\n",
    "\n",
    "while(alist != []):\n",
    "    p = alist.pop(0)\n",
    "#     print(alist)\n",
    "#     print('p:',p)\n",
    "#     print('check:' , check)\n",
    "    if p != check:\n",
    "        alist.append(p)\n",
    "    else:\n",
    "        if k-1 >= len(alist):\n",
    "            count += 1\n",
    "            check = alist[k-1-(len(alist)*count)]\n",
    "        elif (alist == []):\n",
    "            pass\n",
    "        else:\n",
    "            check = alist[k-1]\n",
    "        ans.append(p)\n",
    "\n",
    "print(ans)"
   ]
  },
  {
   "cell_type": "code",
   "execution_count": 55,
   "metadata": {},
   "outputs": [
    {
     "name": "stdout",
     "output_type": "stream",
     "text": [
      "<3, 6, 2, 7, 5, 1, 4>\n"
     ]
    }
   ],
   "source": [
    "# N, K = map(int, input().split(' '))\n",
    "N,k = 7,3\n",
    "count = 0\n",
    "alist = list(range(1,N+1))\n",
    "CCC = alist.copy()\n",
    "ans = []\n",
    "\n",
    "while(len(alist)!=0):\n",
    "    try:\n",
    "        check = CCC[k-1-(len(alist)*count)]\n",
    "    except:\n",
    "        count += 1\n",
    "        continue\n",
    "        \n",
    "    p = alist.pop(0)\n",
    "    if p != check:\n",
    "        alist.append(p)\n",
    "    else:\n",
    "        ans.append(p)\n",
    "        CCC = alist.copy()\n",
    "\n",
    "\n",
    "print('<', end='')\n",
    "for i in ans:\n",
    "    if i == ans[len(ans)-1]:\n",
    "        print(i, end='')\n",
    "    else:\n",
    "        print(i, end=', ')\n",
    "print('>')\n"
   ]
  },
  {
   "cell_type": "code",
   "execution_count": 69,
   "metadata": {},
   "outputs": [
    {
     "name": "stdout",
     "output_type": "stream",
     "text": [
      "7 3\n",
      "<3, 6, 2, 7, 5, 1, 4>\n"
     ]
    }
   ],
   "source": [
    "N, K = map(int, input().split(' '))\n",
    "# N,K = (7,3)\n",
    "count = 0\n",
    "alist = list(range(1,N+1))\n",
    "check = alist[K-1]\n",
    "ans = []\n",
    "\n",
    "while(len(alist)!=0):\n",
    "    p = alist.pop(0)\n",
    "    if p != check:\n",
    "        alist.append(p)\n",
    "    else:\n",
    "        while True:\n",
    "            try:\n",
    "                if alist ==[]:\n",
    "                    break\n",
    "                check = alist[K-1-(len(alist)*count)]\n",
    "            except:\n",
    "                count += 1\n",
    "            else:\n",
    "                break\n",
    "        ans.append(p)\n",
    "print('<', end='')\n",
    "for i in ans:\n",
    "    if i == ans[len(ans)-1]:\n",
    "        print(i, end='')\n",
    "    else:\n",
    "        print(i, end=', ')\n",
    "print('>')\n"
   ]
  },
  {
   "cell_type": "code",
   "execution_count": 102,
   "metadata": {},
   "outputs": [
    {
     "name": "stdout",
     "output_type": "stream",
     "text": [
      "2\n",
      "3\n",
      "7\n",
      "5\n",
      "4\n",
      "210\n",
      "84\n"
     ]
    }
   ],
   "source": [
    "ans = []\n",
    "T = int(input())\n",
    "for _ in range(T):\n",
    "    K = int(input())\n",
    "    N = int(input())\n",
    "    pocket = list(range(1,N+1))\n",
    "    ans.append(ppl())\n",
    "def ppl():\n",
    "    global K\n",
    "    K -=1\n",
    "    for i in range(1,N):\n",
    "        pocket[i] = pocket[i] + pocket[i-1]\n",
    "    if K == 0:\n",
    "        return pocket[N-1]\n",
    "    return ppl()\n",
    "for j in ans:\n",
    "    print(j)"
   ]
  },
  {
   "cell_type": "code",
   "execution_count": 103,
   "metadata": {},
   "outputs": [
    {
     "name": "stdout",
     "output_type": "stream",
     "text": [
      "2\n",
      "3\n",
      "7\n",
      "5\n",
      "4\n",
      "210\n",
      "84\n"
     ]
    }
   ],
   "source": [
    "ans = []\n",
    "T = int(input())\n",
    "for _ in range(T):\n",
    "    K = int(input())\n",
    "    N = int(input())\n",
    "    pocket = list(range(1,N+1))\n",
    "    while True:\n",
    "        K -=1\n",
    "        for i in range(1,N):\n",
    "            pocket[i] = pocket[i] + pocket[i-1]\n",
    "        if K == 0:\n",
    "            ans.append(pocket[N-1])\n",
    "            break\n",
    "for j in ans:\n",
    "    print(j)"
   ]
  },
  {
   "cell_type": "code",
   "execution_count": 20,
   "metadata": {},
   "outputs": [
    {
     "name": "stdout",
     "output_type": "stream",
     "text": [
      "4.0\n",
      "3.0\n",
      "2.0\n",
      "1.0\n",
      "0.0\n",
      "-1.0\n",
      "-2.0\n",
      "-3.0\n",
      "0.0\n",
      "-1.0\n",
      "count:  12\n"
     ]
    }
   ],
   "source": [
    "x, y = 45, 50\n",
    "k = 1\n",
    "count = 2\n",
    "if y-x == 0:\n",
    "    count = 1\n",
    "else:\n",
    "    while True:\n",
    "        x += k\n",
    "        if x == (y-1):\n",
    "            break\n",
    "        T_dist = [((y-1)-(x+k-1))**2, ((y-1)-(x+k))**2, ((y-1)-(x+k+1))**2]\n",
    "        k = ((min(T_dist))**0.5+(y-1-x))\n",
    "        print(k)\n",
    "        count += 1\n",
    "\n",
    "\n",
    "print('count: ',count)"
   ]
  },
  {
   "cell_type": "code",
   "execution_count": 26,
   "metadata": {},
   "outputs": [
    {
     "name": "stdout",
     "output_type": "stream",
     "text": [
      "15\n"
     ]
    }
   ],
   "source": [
    "k = 5\n",
    "print(sum(range(1,k+1)))"
   ]
  },
  {
   "cell_type": "code",
   "execution_count": 83,
   "metadata": {},
   "outputs": [
    {
     "name": "stdout",
     "output_type": "stream",
     "text": [
      "k:  1\n",
      "x:  2\n",
      "y-x:  3\n",
      "sum:  1\n",
      "\n",
      "k:  1\n",
      "x:  3\n",
      "y-x:  2\n",
      "sum:  1\n",
      "\n",
      "k:  1\n",
      "x:  4\n",
      "y-x:  1\n",
      "sum:  1\n",
      "\n",
      "k:  1\n",
      "x:  5\n",
      "y-x:  0\n",
      "sum:  1\n",
      "\n",
      "count:  5\n"
     ]
    }
   ],
   "source": [
    "x, y = 1, 5\n",
    "k = 1\n",
    "count = 1\n",
    "if y-x != 1:\n",
    "    while True:\n",
    "        x += k\n",
    "        print('k: ', k)\n",
    "        print('x: ', x)\n",
    "        print('y-x: ', y-x)\n",
    "        print('sum: ', sum(range(1,k+1)))\n",
    "        print()\n",
    "        if (y-x) == 0:\n",
    "            count += 1\n",
    "            break\n",
    "        elif (y-x) > sum(range(1,k+1)):\n",
    "            if (y-x) :\n",
    "                pass\n",
    "            else: \n",
    "                k += 1\n",
    "            count += 1\n",
    "        elif (y-x) < sum(range(1,k+1)):\n",
    "            k -= 1\n",
    "            count += 1\n",
    "\n",
    "        elif (y-x) == sum(range(1,k+1)):\n",
    "            count += len(range(k))\n",
    "            break\n",
    "\n",
    "print('count: ', count)"
   ]
  },
  {
   "cell_type": "code",
   "execution_count": 109,
   "metadata": {},
   "outputs": [
    {
     "name": "stdout",
     "output_type": "stream",
     "text": [
      "k:  1\n",
      "x:  46\n",
      "\n",
      "k:  2\n",
      "x:  48\n",
      "\n",
      "count:  4\n"
     ]
    }
   ],
   "source": [
    "x, y = 45, 50\n",
    "k = 1\n",
    "count = 1\n",
    "if y-x != 1:\n",
    "    while True:\n",
    "        x += k\n",
    "        print('k: ', k)\n",
    "        print('x: ', x)\n",
    "        print()\n",
    "        if x == y :\n",
    "            break\n",
    "\n",
    "        if (y-(x+k+1))-sum(range(1,k+2)) >= -2:\n",
    "            if (y-(x+k+1)) == sum(range(1,k+2)):\n",
    "                count += len(range(k+2))\n",
    "                break\n",
    "            k += 1\n",
    "            count += 1\n",
    "        elif (y-(x+k))-sum(range(1,k+1)) >= -2:\n",
    "            if (y-(x+k)) == sum(range(1,k+1)):\n",
    "                count += len(range(k+1))\n",
    "                break\n",
    "            count += 1\n",
    "        elif (y-(x+k-1))-sum(range(1,k)) >= -2:\n",
    "            if (y-(x+k-1)) == sum(range(1,k)):\n",
    "                count += len(range(k))\n",
    "                break\n",
    "            k -= 1\n",
    "            count +=1\n",
    "\n",
    "\n",
    "\n",
    "print('count: ', count)"
   ]
  },
  {
   "cell_type": "code",
   "execution_count": 139,
   "metadata": {},
   "outputs": [
    {
     "name": "stdout",
     "output_type": "stream",
     "text": [
      "1\n",
      "45 50\n",
      "4\n"
     ]
    }
   ],
   "source": [
    "ans = []\n",
    "T = int(input())\n",
    "for _ in range(T):\n",
    "    x,y = list(input().split())\n",
    "    k,x,y = 1, int(x), int(y)\n",
    "    count = 1\n",
    "    if y-x != 1:\n",
    "        while True:\n",
    "            x += k\n",
    "            if x == y :\n",
    "                break\n",
    "            if (y-(x+k+1))-sum(range(1,k+2)) >= -2:\n",
    "#                 if (y-(x+k+1)) == sum(range(1,k+2)):\n",
    "#                     count += len(range(k+2))\n",
    "#                     break\n",
    "                k += 1\n",
    "                count += 1\n",
    "            elif (y-(x+k))-sum(range(1,k+1)) >= -2:\n",
    "#                 if (y-(x+k)) == sum(range(1,k+1)):\n",
    "#                     count += len(range(k+1))\n",
    "#                     break\n",
    "                count += 1\n",
    "            elif (y-(x+k-1))-sum(range(1,k)) >= -2:\n",
    "#                 if (y-(x+k-1)) == sum(range(1,k)):\n",
    "#                     count += len(range(k))\n",
    "#                     break\n",
    "                k -= 1\n",
    "                count +=1\n",
    "    ans.append(count)\n",
    "    \n",
    "for j in ans:\n",
    "    print(j)"
   ]
  },
  {
   "cell_type": "code",
   "execution_count": null,
   "metadata": {},
   "outputs": [],
   "source": [
    "ans = []\n",
    "T = int(input())\n",
    "for _ in range(T):\n",
    "    x,y = list(input().split())\n",
    "    k,x,y = 1, int(x), int(y)\n",
    "    count = 1\n",
    "    if y-x != 1:\n",
    "        while True:\n",
    "            x += k\n",
    "            if x == y :\n",
    "                break\n",
    "            if (y-(x+k+1))-sum(range(1,k+2)) >= -2:\n",
    "                k += 1\n",
    "                count += 1\n",
    "            elif (y-(x+k))-sum(range(1,k+1)) >= -2:\n",
    "                count += 1\n",
    "            elif (y-(x+k-1))-sum(range(1,k)) >= -2:\n",
    "                k -= 1\n",
    "                count +=1\n",
    "    ans.append(count)\n",
    "    \n",
    "for j in ans:\n",
    "    print(j)"
   ]
  },
  {
   "cell_type": "code",
   "execution_count": 148,
   "metadata": {},
   "outputs": [
    {
     "name": "stdout",
     "output_type": "stream",
     "text": [
      "1\n",
      "0 3\n",
      "3\n"
     ]
    }
   ],
   "source": [
    "case_num = int(input())\n",
    "ans = []\n",
    "for i in range(case_num):\n",
    "    a, b = map(int, input().split())\n",
    "    num = b-a\n",
    "    k = 1\n",
    "    p = 1\n",
    "    while num > 0:\n",
    "        num -= k\n",
    "        k += 1\n",
    "        if num >= p:\n",
    "            num -= p\n",
    "            p += 1\n",
    "\n",
    "    ans.append(k+p-2)\n",
    "\n",
    "for i in ans:\n",
    "    print(i)    "
   ]
  },
  {
   "cell_type": "markdown",
   "metadata": {},
   "source": [
    "## 숌 코드"
   ]
  },
  {
   "cell_type": "code",
   "execution_count": 2,
   "metadata": {},
   "outputs": [],
   "source": [
    "import re\n",
    "import numpy as np"
   ]
  },
  {
   "cell_type": "code",
   "execution_count": 2,
   "metadata": {},
   "outputs": [
    {
     "data": {
      "text/plain": [
       "'th3s 3s str3ng 2x1mpl2....w4w!!!'"
      ]
     },
     "execution_count": 2,
     "metadata": {},
     "output_type": "execute_result"
    }
   ],
   "source": [
    "intab = \"aeiou\"\n",
    "outtab = \"12345\"\n",
    "trantab = str.maketrans(intab, outtab)\n",
    "\n",
    "str = \"this is string example....wow!!!\"\n",
    "str.translate(trantab)"
   ]
  },
  {
   "cell_type": "code",
   "execution_count": 155,
   "metadata": {},
   "outputs": [
    {
     "name": "stdout",
     "output_type": "stream",
     "text": [
      "4\n",
      "1\n",
      "1010\n",
      "01\n",
      "10101\n"
     ]
    },
    {
     "data": {
      "text/plain": [
       "['10101', '1010', '01', '1', '@']"
      ]
     },
     "execution_count": 155,
     "metadata": {},
     "output_type": "execute_result"
    }
   ],
   "source": [
    "#trial 1\n",
    "T = int(input())\n",
    "lista = []\n",
    "for _ in range(T):\n",
    "    lista.append(input())\n",
    "lista.append('@')\n",
    "sorted(lista, key=len, reverse=True)"
   ]
  },
  {
   "cell_type": "code",
   "execution_count": 156,
   "metadata": {},
   "outputs": [],
   "source": [
    "lista = ['10101', '1010', '01', '1', '@']"
   ]
  },
  {
   "cell_type": "markdown",
   "metadata": {},
   "source": [
    "#### 1차"
   ]
  },
  {
   "cell_type": "code",
   "execution_count": 280,
   "metadata": {},
   "outputs": [
    {
     "name": "stdout",
     "output_type": "stream",
     "text": [
      "{'1010a1010', '1a0a1010a1a0', '1a0a10a10a10', '1a0a1a0a1a0a1a0', '10a10a10a10'}\n",
      "{'1a0a1a0a1a0a1a0', '1a0', '1a0a1010a1a0', '1a0a10a10a10', '1010a1010', '10a10a10a10'}\n",
      "{'1a0a1a0a1a0a1a0', '1a0', '1a0a1010a1a0', '1a0a10a10a10', '1010a1010', '10a10a10a10'}\n",
      "{'1a0a1a0a1a0a1a0', '1a0', '1a0a1010a1a0', '1a0a10a10a10', '1010a1010', '10a10a10a10'}\n",
      "{'1a0a1a0a1a0a1a0', '1a0', '1a0a1010a1a0', '1a0a10a10a10', '1010a1010', '10a10a10a10'}\n",
      "1\n"
     ]
    }
   ],
   "source": [
    "# T = int(input())\n",
    "# lista = []\n",
    "# for _ in range(T):\n",
    "#     lista.append(input())\n",
    "# lista.append('@')\n",
    "# lista = sorted(lista, key=len, reverse=True)\n",
    "lista = ['10101010','1010','10','1',\"0\", '@']\n",
    "ans = []\n",
    "anslist = []\n",
    "anslist2 = []\n",
    "#==================\n",
    "while True:\n",
    "    target = lista.pop(0)\n",
    "    if target == '@':\n",
    "        break\n",
    "    target_fix = target\n",
    "    target2 = 'none'\n",
    "    cnt = 0\n",
    "    while True:\n",
    "        for i in lista:\n",
    "            while True:\n",
    "                if i == target[0:len(i)]:\n",
    "                    anslist.append(i)\n",
    "                    target = target.replace(i, \"\", 1)\n",
    "                else:\n",
    "                    break\n",
    "        if target == target2:\n",
    "            cnt+=1\n",
    "#             print(cnt)\n",
    "            if len(target) == 0:\n",
    "                anslist2.append(\"a\".join(anslist))\n",
    "                anslist = []\n",
    "                if cnt != 20:\n",
    "                    lista = sample(lista, len(lista))\n",
    "#                     print(\"lista: \", lista)\n",
    "                    target = target_fix\n",
    "                else:\n",
    "                    break\n",
    "            else:\n",
    "                break\n",
    "        target2 = target\n",
    "    lista.append(lista.pop(lista.index('@')))\n",
    "    print(set(anslist2))\n",
    "    if (len(set(anslist2))+1) >= 3:\n",
    "        ans.append(len(target_fix))\n",
    "#====================        \n",
    "if not ans:\n",
    "    print(-1)\n",
    "else:\n",
    "    print(min(ans))\n"
   ]
  },
  {
   "cell_type": "markdown",
   "metadata": {},
   "source": [
    "#### 2차"
   ]
  },
  {
   "cell_type": "code",
   "execution_count": 265,
   "metadata": {},
   "outputs": [
    {
     "data": {
      "text/plain": [
       "0"
      ]
     },
     "execution_count": 265,
     "metadata": {},
     "output_type": "execute_result"
    }
   ],
   "source": [
    "lista.index(\"@\")"
   ]
  },
  {
   "cell_type": "code",
   "execution_count": 8,
   "metadata": {},
   "outputs": [
    {
     "name": "stdout",
     "output_type": "stream",
     "text": [
      "{'1a1a0a1a1a0'}\n",
      "{'1a0'}\n",
      "set()\n",
      "-1\n"
     ]
    }
   ],
   "source": [
    "# T = int(input())\n",
    "# lista = []\n",
    "# for _ in range(T):\n",
    "#     lista.append(input())\n",
    "# lista.append('@')\n",
    "# lista = sorted(lista, key=len, reverse=True)\n",
    "lista = ['110110', '10', '1', '0', '@']\n",
    "ans = []\n",
    "while True:\n",
    "    target = lista.pop(0) # ['1010', '01', '1', '@']\n",
    "    if target == '@':\n",
    "        break\n",
    "    target_fix = target\n",
    "    target2 = 'none'\n",
    "    anslist = []\n",
    "    anslist2 = []\n",
    "    while True:\n",
    "        for i in lista:\n",
    "            while True:\n",
    "                if i == target[0:len(i)]:\n",
    "                    anslist.append(i)\n",
    "                    target = target.replace(i, \"\", 1)\n",
    "                else:\n",
    "                    break\n",
    "                    \n",
    "                    \n",
    "                    \n",
    "                    \n",
    "                    \n",
    "                    \n",
    "        if target == target2:\n",
    "            if len(target) == 0:\n",
    "                anslist2.append(\"a\".join(anslist))\n",
    "                anslist = []\n",
    "                if lista[0] != '@':\n",
    "                    lista.append(lista.pop(0))\n",
    "                    target = target_fix\n",
    "                else:\n",
    "                    break\n",
    "            else:\n",
    "                break\n",
    "        target2 = target\n",
    "    print(set(anslist2))\n",
    "    lista.append(lista.pop(0))\n",
    "    if (len(set(anslist2))+1) >= 3:\n",
    "        ans.append(len(target_fix))\n",
    "if not ans:\n",
    "    print(-1)\n",
    "else:\n",
    "    print(min(ans))\n"
   ]
  },
  {
   "cell_type": "code",
   "execution_count": null,
   "metadata": {},
   "outputs": [],
   "source": [
    "anslist = []\n",
    "def abc(lista, trg):\n",
    "#     print(lista)\n",
    "#     if lista[0] == '@':\n",
    "#         return anslist\n",
    "    for i in lista:\n",
    "        m = re.match(lista[0], trg)\n",
    "        if m:\n",
    "            anslist.append(lista[0])\n",
    "    #         print(\"anslist\",anslist)\n",
    "            trg = trg.replace(lista[0], \"\", 1)\n",
    "            abc(lista, trg)\n",
    "\n",
    "        else:\n",
    "            lista.append(lista.pop(0))\n",
    "            abc(lista, trg)\n",
    "        \n",
    "        \n",
    "print(abc(['110', '10' , '1' , '0', '@'], '110110'))"
   ]
  },
  {
   "cell_type": "markdown",
   "metadata": {},
   "source": [
    "### 3차"
   ]
  },
  {
   "cell_type": "markdown",
   "metadata": {},
   "source": [
    "['110110' , '110', '10' , '1' , '0', '@']\n",
    "\n",
    "- 1, 1, 0, 1, 1, 0\n",
    "- 1, 1, 0, 1, 10\n",
    "- 1, 1, 0, 110\n",
    "- 1, 10, 1, 1, 0\n",
    "- 1, 10, 1, 10\n",
    "- 1, 10, 110\n",
    "- 110, 1, 1, 0\n",
    "- 110, 1, 10\n",
    "- 110, 110\n",
    "- 110110"
   ]
  },
  {
   "cell_type": "code",
   "execution_count": 3,
   "metadata": {},
   "outputs": [],
   "source": [
    "import re"
   ]
  },
  {
   "cell_type": "code",
   "execution_count": 34,
   "metadata": {},
   "outputs": [
    {
     "data": {
      "text/plain": [
       "['110', '1']"
      ]
     },
     "execution_count": 34,
     "metadata": {},
     "output_type": "execute_result"
    }
   ],
   "source": [
    "anslist = []\n",
    "def matchlist(lista, trg):\n",
    "    for i in lista:\n",
    "        if re.match(i, trg):\n",
    "            anslist.append(i)\n",
    "    return anslist\n",
    "\n",
    "matchlist(['110', '10' , '1' , '0', '@'], '110110')\n"
   ]
  },
  {
   "cell_type": "code",
   "execution_count": 76,
   "metadata": {},
   "outputs": [
    {
     "data": {
      "text/plain": [
       "{0: 'start', 1: ['110', '10110']}"
      ]
     },
     "execution_count": 76,
     "metadata": {},
     "output_type": "execute_result"
    }
   ],
   "source": [
    "anslist = []\n",
    "anslist2 = []\n",
    "dix = {0:'start'}\n",
    "num = 0\n",
    "def trglist(lista, trg):\n",
    "    global num\n",
    "    a = matchlist(lista, trg)\n",
    "    if a:\n",
    "        for j in a:\n",
    "            anslist2.append(trg.replace(j, \"\", 1))\n",
    "        if dix[num]:\n",
    "            num +=1\n",
    "            dix[num] = anslist2\n",
    "        else:\n",
    "            dix[num] = anslist2\n",
    "        return dix\n",
    "    else:\n",
    "        a.append(\"@\")\n",
    "        if dix[num]:\n",
    "            num+=1\n",
    "            dix[num] = anslist2\n",
    "        else:\n",
    "            dix[num] = anslist2\n",
    "        return dix\n",
    "\n",
    "trglist(['110', '10' , '1' , '0'], '110110')\n",
    "    "
   ]
  },
  {
   "cell_type": "code",
   "execution_count": 79,
   "metadata": {},
   "outputs": [
    {
     "ename": "KeyboardInterrupt",
     "evalue": "",
     "output_type": "error",
     "traceback": [
      "\u001b[0;31m---------------------------------------------------------------------------\u001b[0m",
      "\u001b[0;31mKeyboardInterrupt\u001b[0m                         Traceback (most recent call last)",
      "\u001b[0;32m<ipython-input-79-395eb4e646d5>\u001b[0m in \u001b[0;36m<module>\u001b[0;34m()\u001b[0m\n\u001b[1;32m      7\u001b[0m         \u001b[0;32mcontinue\u001b[0m\u001b[0;34m\u001b[0m\u001b[0m\n\u001b[1;32m      8\u001b[0m     \u001b[0;32mfor\u001b[0m \u001b[0mmaa\u001b[0m \u001b[0;32min\u001b[0m \u001b[0mma\u001b[0m\u001b[0;34m:\u001b[0m\u001b[0;34m\u001b[0m\u001b[0m\n\u001b[0;32m----> 9\u001b[0;31m         \u001b[0mtrglist\u001b[0m\u001b[0;34m(\u001b[0m\u001b[0;34m[\u001b[0m\u001b[0;34m'110'\u001b[0m\u001b[0;34m,\u001b[0m \u001b[0;34m'10'\u001b[0m \u001b[0;34m,\u001b[0m \u001b[0;34m'1'\u001b[0m \u001b[0;34m,\u001b[0m \u001b[0;34m'0'\u001b[0m\u001b[0;34m]\u001b[0m\u001b[0;34m,\u001b[0m \u001b[0mmaa\u001b[0m\u001b[0;34m)\u001b[0m\u001b[0;34m\u001b[0m\u001b[0m\n\u001b[0m\u001b[1;32m     10\u001b[0m \u001b[0;34m\u001b[0m\u001b[0m\n",
      "\u001b[0;32m<ipython-input-76-3944284b77ca>\u001b[0m in \u001b[0;36mtrglist\u001b[0;34m(lista, trg)\u001b[0m\n\u001b[1;32m      8\u001b[0m     \u001b[0;32mif\u001b[0m \u001b[0ma\u001b[0m\u001b[0;34m:\u001b[0m\u001b[0;34m\u001b[0m\u001b[0m\n\u001b[1;32m      9\u001b[0m         \u001b[0;32mfor\u001b[0m \u001b[0mj\u001b[0m \u001b[0;32min\u001b[0m \u001b[0ma\u001b[0m\u001b[0;34m:\u001b[0m\u001b[0;34m\u001b[0m\u001b[0m\n\u001b[0;32m---> 10\u001b[0;31m             \u001b[0manslist2\u001b[0m\u001b[0;34m.\u001b[0m\u001b[0mappend\u001b[0m\u001b[0;34m(\u001b[0m\u001b[0mtrg\u001b[0m\u001b[0;34m.\u001b[0m\u001b[0mreplace\u001b[0m\u001b[0;34m(\u001b[0m\u001b[0mj\u001b[0m\u001b[0;34m,\u001b[0m \u001b[0;34m\"\"\u001b[0m\u001b[0;34m,\u001b[0m \u001b[0;36m1\u001b[0m\u001b[0;34m)\u001b[0m\u001b[0;34m)\u001b[0m\u001b[0;34m\u001b[0m\u001b[0m\n\u001b[0m\u001b[1;32m     11\u001b[0m         \u001b[0;32mif\u001b[0m \u001b[0mdix\u001b[0m\u001b[0;34m[\u001b[0m\u001b[0mnum\u001b[0m\u001b[0;34m]\u001b[0m\u001b[0;34m:\u001b[0m\u001b[0;34m\u001b[0m\u001b[0m\n\u001b[1;32m     12\u001b[0m             \u001b[0mnum\u001b[0m \u001b[0;34m+=\u001b[0m\u001b[0;36m1\u001b[0m\u001b[0;34m\u001b[0m\u001b[0m\n",
      "\u001b[0;31mKeyboardInterrupt\u001b[0m: "
     ]
    }
   ],
   "source": [
    "anslist = []\n",
    "anslist2 = []\n",
    "dix = {0:'start'}\n",
    "num = 0\n",
    "for ma in trglist(['110', '10' , '1' , '0'], '110110').values():\n",
    "    if ma == 'start':\n",
    "        continue\n",
    "    for maa in ma:\n",
    "        trglist(['110', '10' , '1' , '0'], maa)\n",
    "    "
   ]
  },
  {
   "cell_type": "code",
   "execution_count": null,
   "metadata": {},
   "outputs": [],
   "source": []
  },
  {
   "cell_type": "code",
   "execution_count": null,
   "metadata": {},
   "outputs": [],
   "source": []
  },
  {
   "cell_type": "code",
   "execution_count": null,
   "metadata": {},
   "outputs": [],
   "source": []
  },
  {
   "cell_type": "code",
   "execution_count": 26,
   "metadata": {},
   "outputs": [
    {
     "name": "stdout",
     "output_type": "stream",
     "text": [
      "<_sre.SRE_Match object; span=(0, 3), match='110'>\n"
     ]
    }
   ],
   "source": [
    "# \"110110\" == [10.]\n",
    "# p = re.compile(\"110\")\n",
    "m = re.match(\"110\",\"110110\")\n",
    "print(m)"
   ]
  },
  {
   "cell_type": "code",
   "execution_count": null,
   "metadata": {},
   "outputs": [],
   "source": [
    "def mem(trg):\n",
    "    if trg[:1] in lista:\n",
    "        trg = trg[1:]\n",
    "        mem(trg)\n",
    "    else:\n",
    "        nonmem(trg)\n",
    "        "
   ]
  },
  {
   "cell_type": "code",
   "execution_count": 224,
   "metadata": {},
   "outputs": [
    {
     "data": {
      "text/plain": [
       "<_sre.SRE_Match object; span=(0, 2), match='00'>"
      ]
     },
     "execution_count": 224,
     "metadata": {},
     "output_type": "execute_result"
    }
   ],
   "source": [
    "re.search('00', '00000000',flags=0)"
   ]
  },
  {
   "cell_type": "code",
   "execution_count": 272,
   "metadata": {},
   "outputs": [
    {
     "data": {
      "text/plain": [
       "[('456', '123', '4542'),\n",
       " ('456', '4542', '123'),\n",
       " ('123', '456', '4542'),\n",
       " ('123', '4542', '456'),\n",
       " ('4542', '456', '123'),\n",
       " ('4542', '123', '456')]"
      ]
     },
     "execution_count": 272,
     "metadata": {},
     "output_type": "execute_result"
    }
   ],
   "source": [
    "from random import sample\n",
    "from itertools import permutations\n",
    "test = ['456','123','4542']\n",
    "# test.pop(np.argmax([len(x) for x in test]))\n",
    "# sorted(test, key=len)\n",
    "# sample(test, len(test))\n",
    "list(permutations(test, len(test)))"
   ]
  },
  {
   "cell_type": "code",
   "execution_count": null,
   "metadata": {},
   "outputs": [],
   "source": []
  }
 ],
 "metadata": {
  "kernelspec": {
   "display_name": "Python 3",
   "language": "python",
   "name": "python3"
  },
  "language_info": {
   "codemirror_mode": {
    "name": "ipython",
    "version": 3
   },
   "file_extension": ".py",
   "mimetype": "text/x-python",
   "name": "python",
   "nbconvert_exporter": "python",
   "pygments_lexer": "ipython3",
   "version": "3.5.5"
  }
 },
 "nbformat": 4,
 "nbformat_minor": 2
}
